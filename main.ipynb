{
 "cells": [
  {
   "cell_type": "code",
   "execution_count": 14,
   "id": "ebcf7920-01a1-4dfe-ae4e-e9fbbf046e99",
   "metadata": {},
   "outputs": [],
   "source": [
    "import time\n",
    "from akari_client import AkariClient\n",
    "from akari_client.color import Colors\n",
    "from akari_client.position import Positions\n",
    "akari = AkariClient()\n",
    "joints = akari.joints\n",
    "m5 = akari.m5stack\n",
    "joints.enable_all_servo()\n",
    "\n",
    "joints.set_joint_velocities(pan=3,tilt=3)\n",
    "joints.move_joint_positions(pan=0,tilt=0.4,sync=True)\n",
    "m5.set_display_text('あけまして', text_color=Colors.RED,refresh=True)\n",
    "time.sleep(2)\n",
    "joints.move_joint_positions(tilt=-0.4,sync=False)\n",
    "m5.set_display_text('おめでとう', text_color=Colors.RED,refresh=True)\n",
    "time.sleep(3)\n",
    "joints.move_joint_positions(tilt=0.4,sync=False)\n",
    "m5.set_display_text('ございます', text_color=Colors.RED,refresh=True)\n",
    "time.sleep(5)\n",
    "joints.move_joint_positions(tilt=0.0,sync=True)\n",
    "m5.set_display_image(filepath= \"/jpg/logo320.jpg\")"
   ]
  }
 ],
 "metadata": {
  "kernelspec": {
   "display_name": "Python 3 (ipykernel)",
   "language": "python",
   "name": "python3"
  },
  "language_info": {
   "codemirror_mode": {
    "name": "ipython",
    "version": 3
   },
   "file_extension": ".py",
   "mimetype": "text/x-python",
   "name": "python",
   "nbconvert_exporter": "python",
   "pygments_lexer": "ipython3",
   "version": "3.10.12"
  }
 },
 "nbformat": 4,
 "nbformat_minor": 5
}
